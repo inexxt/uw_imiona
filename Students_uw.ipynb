{
 "metadata": {
  "name": "",
  "signature": "sha256:438d59594268acef3eb3d96f9737440111648fa5e0db064bd30a1f0dbc7d300b"
 },
 "nbformat": 3,
 "nbformat_minor": 0,
 "worksheets": [
  {
   "cells": [
    {
     "cell_type": "code",
     "collapsed": false,
     "input": [
      "%load_ext autoreload\n",
      "from bs4 import BeautifulSoup\n",
      "from numpy import *\n",
      "import matplotlib.pyplot as plt \n",
      "import pylab as pl\n",
      "import pandas as pd"
     ],
     "language": "python",
     "metadata": {},
     "outputs": [
      {
       "output_type": "stream",
       "stream": "stdout",
       "text": [
        "The autoreload extension is already loaded. To reload it, use:\n",
        "  %reload_ext autoreload\n"
       ]
      }
     ],
     "prompt_number": 67
    },
    {
     "cell_type": "code",
     "collapsed": false,
     "input": [
      "soup = BeautifulSoup(open(\"studenci_uw_imiona.html\"))\n",
      "people = soup.findAll(\"div\", { \"class\" : \"fsl fwb fcb\" })\n",
      "S = []\n",
      "for person in people:\n",
      "    S.append((person.string).split(' ', 1)[0])\n",
      "imiona = dict((x, S.count(x)) for x in S if S.count(x) > 7)\n"
     ],
     "language": "python",
     "metadata": {},
     "outputs": [],
     "prompt_number": 68
    },
    {
     "cell_type": "code",
     "collapsed": false,
     "input": [
      "d = [(key, value) for key, value in imiona.iteritems()]\n",
      "d.sort()\n",
      "print(d)\n",
      "\n",
      "plt.bar(range(len(d)), imiona.values(), align='center', alpha=0.9)\n",
      "plt.xticks(range(len(d)), imiona.keys(), rotation='-45')"
     ],
     "language": "python",
     "metadata": {},
     "outputs": [
      {
       "output_type": "stream",
       "stream": "stdout",
       "text": [
        "[(u'Adam', 29), (u'Agata', 11), (u'Agnieszka', 31), (u'Aleksander', 15), (u'Aleksandra', 21), (u'Andrzej', 12), (u'Ania', 15), (u'Anna', 22), (u'Artur', 10), (u'Bartek', 16), (u'Bartosz', 14), (u'Bart\\u0142omiej', 8), (u'Damian', 13), (u'Daniel', 10), (u'Dominik', 14), (u'Dominika', 11), (u'Ewa', 12), (u'Filip', 13), (u'Grzegorz', 21), (u'Hubert', 9), (u'Jacek', 10), (u'Jakub', 45), (u'Jan', 17), (u'Joanna', 18), (u'Julia', 11), (u'Kacper', 10), (u'Kamil', 30), (u'Karol', 18), (u'Karolina', 19), (u'Kasia', 21), (u'Katarzyna', 29), (u'Konrad', 16), (u'Krzysiek', 11), (u'Krzysztof', 37), (u'Kuba', 20), (u'Maciej', 28), (u'Maciek', 11), (u'Magda', 15), (u'Magdalena', 18), (u'Marcin', 44), (u'Marek', 13), (u'Marta', 21), (u'Martyna', 10), (u'Mateusz', 58), (u'Micha\\u0142', 98), (u'Miko\\u0142aj', 12), (u'Monika', 15), (u'Natalia', 15), (u'Ola', 12), (u'Olga', 9), (u'Paulina', 11), (u'Pawe\\u0142', 45), (u'Piotr', 52), (u'Przemek', 11), (u'Rafa\\u0142', 23), (u'Szymon', 15), (u'Tomasz', 25), (u'Tomek', 19), (u'Wojciech', 14), (u'Wojtek', 13), (u'\\u0141ukasz', 34)]\n"
       ]
      },
      {
       "metadata": {},
       "output_type": "pyout",
       "prompt_number": 69,
       "text": [
        "([<matplotlib.axis.XTick at 0x7f836e8a83d0>,\n",
        "  <matplotlib.axis.XTick at 0x7f836e8b3290>,\n",
        "  <matplotlib.axis.XTick at 0x7f83720fd210>,\n",
        "  <matplotlib.axis.XTick at 0x7f836e5c9f90>,\n",
        "  <matplotlib.axis.XTick at 0x7f836e5ce4d0>,\n",
        "  <matplotlib.axis.XTick at 0x7f836e5cea50>,\n",
        "  <matplotlib.axis.XTick at 0x7f836e5dc4d0>,\n",
        "  <matplotlib.axis.XTick at 0x7f836e47a790>,\n",
        "  <matplotlib.axis.XTick at 0x7f836e47af10>,\n",
        "  <matplotlib.axis.XTick at 0x7f836e4046d0>,\n",
        "  <matplotlib.axis.XTick at 0x7f836e404e50>,\n",
        "  <matplotlib.axis.XTick at 0x7f836e40d610>,\n",
        "  <matplotlib.axis.XTick at 0x7f836e40dd90>,\n",
        "  <matplotlib.axis.XTick at 0x7f836e418550>,\n",
        "  <matplotlib.axis.XTick at 0x7f836e418cd0>,\n",
        "  <matplotlib.axis.XTick at 0x7f836e420490>,\n",
        "  <matplotlib.axis.XTick at 0x7f836e420c10>,\n",
        "  <matplotlib.axis.XTick at 0x7f836e42a3d0>,\n",
        "  <matplotlib.axis.XTick at 0x7f836e42ab50>,\n",
        "  <matplotlib.axis.XTick at 0x7f836e433310>,\n",
        "  <matplotlib.axis.XTick at 0x7f836e433a90>,\n",
        "  <matplotlib.axis.XTick at 0x7f836e43d250>,\n",
        "  <matplotlib.axis.XTick at 0x7f836e43d9d0>,\n",
        "  <matplotlib.axis.XTick at 0x7f836e3c6190>,\n",
        "  <matplotlib.axis.XTick at 0x7f836e3c6910>,\n",
        "  <matplotlib.axis.XTick at 0x7f836e3d00d0>,\n",
        "  <matplotlib.axis.XTick at 0x7f836e3d0850>,\n",
        "  <matplotlib.axis.XTick at 0x7f836e3d0fd0>,\n",
        "  <matplotlib.axis.XTick at 0x7f836e3da790>,\n",
        "  <matplotlib.axis.XTick at 0x7f836e3daf10>,\n",
        "  <matplotlib.axis.XTick at 0x7f836e3e36d0>,\n",
        "  <matplotlib.axis.XTick at 0x7f836e3e3e50>,\n",
        "  <matplotlib.axis.XTick at 0x7f836e3ed610>,\n",
        "  <matplotlib.axis.XTick at 0x7f836e3edd90>,\n",
        "  <matplotlib.axis.XTick at 0x7f836e3f7550>,\n",
        "  <matplotlib.axis.XTick at 0x7f836e3f7cd0>,\n",
        "  <matplotlib.axis.XTick at 0x7f836e401490>,\n",
        "  <matplotlib.axis.XTick at 0x7f836e401c10>,\n",
        "  <matplotlib.axis.XTick at 0x7f836e38b3d0>,\n",
        "  <matplotlib.axis.XTick at 0x7f836e38bb50>,\n",
        "  <matplotlib.axis.XTick at 0x7f836e394310>,\n",
        "  <matplotlib.axis.XTick at 0x7f836e394a90>,\n",
        "  <matplotlib.axis.XTick at 0x7f836e39e250>,\n",
        "  <matplotlib.axis.XTick at 0x7f836e39e9d0>,\n",
        "  <matplotlib.axis.XTick at 0x7f836e3a9190>,\n",
        "  <matplotlib.axis.XTick at 0x7f836e3a9910>,\n",
        "  <matplotlib.axis.XTick at 0x7f836e3b10d0>,\n",
        "  <matplotlib.axis.XTick at 0x7f836e3b1850>,\n",
        "  <matplotlib.axis.XTick at 0x7f836e3b1fd0>,\n",
        "  <matplotlib.axis.XTick at 0x7f836e3bb790>,\n",
        "  <matplotlib.axis.XTick at 0x7f836e3bbf10>,\n",
        "  <matplotlib.axis.XTick at 0x7f836e3456d0>,\n",
        "  <matplotlib.axis.XTick at 0x7f836e345e50>,\n",
        "  <matplotlib.axis.XTick at 0x7f836e34e610>,\n",
        "  <matplotlib.axis.XTick at 0x7f836e34ed90>,\n",
        "  <matplotlib.axis.XTick at 0x7f836e359550>,\n",
        "  <matplotlib.axis.XTick at 0x7f836e359cd0>,\n",
        "  <matplotlib.axis.XTick at 0x7f836e361490>,\n",
        "  <matplotlib.axis.XTick at 0x7f836e361c10>,\n",
        "  <matplotlib.axis.XTick at 0x7f836e36c3d0>,\n",
        "  <matplotlib.axis.XTick at 0x7f836e36cb50>],\n",
        " <a list of 61 Text xticklabel objects>)"
       ]
      }
     ],
     "prompt_number": 69
    },
    {
     "cell_type": "code",
     "collapsed": false,
     "input": [
      "import matplotlib\n",
      "matplotlib.style.use('ggplot')\n",
      "df = pd.DataFrame(imiona.items(), columns=['Imie', 'Czestotliwosc'])\n",
      "df = df.sort(columns='Czestotliwosc', ascending=False)\n",
      "print(df)\n",
      "df.plot(kind='barh', x=df.Imie, position=0.7, sort_columns=True)"
     ],
     "language": "python",
     "metadata": {},
     "outputs": [
      {
       "output_type": "stream",
       "stream": "stdout",
       "text": [
        "          Imie  Czestotliwosc\n",
        "48      Micha\u0142             98\n",
        "40     Mateusz             58\n",
        "60       Piotr             52\n",
        "28       Pawe\u0142             45\n",
        "0        Jakub             45\n",
        "4       Marcin             44\n",
        "24   Krzysztof             37\n",
        "17      \u0141ukasz             34\n",
        "3    Agnieszka             31\n",
        "47       Kamil             30\n",
        "41        Adam             29\n",
        "58   Katarzyna             29\n",
        "36      Maciej             28\n",
        "46      Tomasz             25\n",
        "45       Rafa\u0142             23\n",
        "12        Anna             22\n",
        "59    Grzegorz             21\n",
        "1   Aleksandra             21\n",
        "51       Kasia             21\n",
        "43       Marta             21\n",
        "29        Kuba             20\n",
        "15       Tomek             19\n",
        "16    Karolina             19\n",
        "27   Magdalena             18\n",
        "31       Karol             18\n",
        "52      Joanna             18\n",
        "7          Jan             17\n",
        "50      Konrad             16\n",
        "57      Bartek             16\n",
        "26      Monika             15\n",
        "..         ...            ...\n",
        "18  Aleksander             15\n",
        "13      Szymon             15\n",
        "10       Magda             15\n",
        "33     Natalia             15\n",
        "25    Wojciech             14\n",
        "37     Bartosz             14\n",
        "38     Dominik             14\n",
        "32      Damian             13\n",
        "6        Filip             13\n",
        "14       Marek             13\n",
        "11      Wojtek             13\n",
        "5          Ewa             12\n",
        "21         Ola             12\n",
        "22     Miko\u0142aj             12\n",
        "30     Andrzej             12\n",
        "35      Maciek             11\n",
        "49       Julia             11\n",
        "23    Krzysiek             11\n",
        "39     Paulina             11\n",
        "44       Agata             11\n",
        "8      Przemek             11\n",
        "42    Dominika             11\n",
        "2      Martyna             10\n",
        "54       Artur             10\n",
        "56      Kacper             10\n",
        "20      Daniel             10\n",
        "9        Jacek             10\n",
        "34        Olga              9\n",
        "53      Hubert              9\n",
        "55  Bart\u0142omiej              8\n",
        "\n",
        "[61 rows x 2 columns]\n"
       ]
      },
      {
       "metadata": {},
       "output_type": "pyout",
       "prompt_number": 70,
       "text": [
        "<matplotlib.axes._subplots.AxesSubplot at 0x7f836e36c810>"
       ]
      }
     ],
     "prompt_number": 70
    },
    {
     "cell_type": "code",
     "collapsed": false,
     "input": [
      "import re\n",
      "def getFriends(link):\n",
      "    wojtek = BeautifulSoup(link.read())\n",
      "#     print(wojtek.prettify())\n",
      "    friends = wojtek.findAll('a', {'class' :'uiLinkSubtle'}, href=re.compile('friends$'))\n",
      "    if len(friends) > 0:\n",
      "        friends=friends[0].string\n",
      "        name = wojtek.findAll('span', {'id' :'fb-timeline-cover-name'})[0].string.split(' ', 1)[0]\n",
      "    else:\n",
      "        friends=\"\"\n",
      "        name=\"\"\n",
      "    print(name + \" \" + friends)\n",
      "    return name, friends\n"
     ],
     "language": "python",
     "metadata": {},
     "outputs": [],
     "prompt_number": 115
    },
    {
     "cell_type": "code",
     "collapsed": false,
     "input": [
      "import urllib2\n",
      "url=\"https://www.facebook.com/psorek139\"\n",
      "page=urllib2.urlopen(url)\n",
      "print(getFriends(page))\n",
      "\n"
     ],
     "language": "python",
     "metadata": {},
     "outputs": [
      {
       "output_type": "stream",
       "stream": "stdout",
       "text": [
        " \n",
        "('', '')\n"
       ]
      }
     ],
     "prompt_number": 116
    },
    {
     "cell_type": "code",
     "collapsed": false,
     "input": [],
     "language": "python",
     "metadata": {},
     "outputs": [],
     "prompt_number": 70
    }
   ],
   "metadata": {}
  }
 ]
}